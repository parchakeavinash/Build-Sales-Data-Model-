{
 "cells": [
  {
   "cell_type": "code",
   "execution_count": 1,
   "id": "4d9d6c77-af97-4721-93a6-f486b00750b7",
   "metadata": {},
   "outputs": [
    {
     "name": "stdout",
     "output_type": "stream",
     "text": [
      "Tables created successfully!\n"
     ]
    }
   ],
   "source": [
    "import psycopg2\n",
    "\n",
    "# Connect to PostgreSQL\n",
    "conn = psycopg2.connect(\n",
    "    dbname=\"myfirstdb\",\n",
    "    user=\"postgres\",\n",
    "    password=\"524919\",\n",
    "    host=\"localhost\",\n",
    "    port=\"5432\"\n",
    ")\n",
    "cur = conn.cursor()\n",
    "\n",
    "# Create tables\n",
    "cur.execute(\"\"\"\n",
    "    CREATE TABLE IF NOT EXISTS Customers (\n",
    "        customer_id SERIAL PRIMARY KEY,\n",
    "        name VARCHAR(100),\n",
    "        email VARCHAR(100) UNIQUE,\n",
    "        phone VARCHAR(20),\n",
    "        address TEXT,\n",
    "        created_at TIMESTAMP DEFAULT CURRENT_TIMESTAMP\n",
    "    );\n",
    "\"\"\")\n",
    "\n",
    "cur.execute(\"\"\"\n",
    "    CREATE TABLE IF NOT EXISTS Products (\n",
    "        product_id SERIAL PRIMARY KEY,\n",
    "        name VARCHAR(100),\n",
    "        category VARCHAR(50),\n",
    "        price DECIMAL(10,2),\n",
    "        stock_quantity INT\n",
    "    );\n",
    "\"\"\")\n",
    "\n",
    "cur.execute(\"\"\"\n",
    "    CREATE TABLE IF NOT EXISTS Orders (\n",
    "        order_id SERIAL PRIMARY KEY,\n",
    "        customer_id INT REFERENCES Customers(customer_id) ON DELETE CASCADE,\n",
    "        order_date TIMESTAMP DEFAULT CURRENT_TIMESTAMP,\n",
    "        total_amount DECIMAL(10,2),\n",
    "        status VARCHAR(20) CHECK (status IN ('Pending', 'Completed', 'Cancelled'))\n",
    "    );\n",
    "\"\"\")\n",
    "\n",
    "cur.execute(\"\"\"\n",
    "    CREATE TABLE IF NOT EXISTS OrderDetails (\n",
    "        order_id INT REFERENCES Orders(order_id) ON DELETE CASCADE,\n",
    "        product_id INT REFERENCES Products(product_id) ON DELETE CASCADE,\n",
    "        quantity INT,\n",
    "        subtotal DECIMAL(10,2),\n",
    "        PRIMARY KEY (order_id, product_id)\n",
    "    );\n",
    "\"\"\")\n",
    "\n",
    "conn.commit()\n",
    "print(\"Tables created successfully!\")\n",
    "\n",
    "cur.close()\n",
    "conn.close()\n"
   ]
  },
  {
   "cell_type": "code",
   "execution_count": 2,
   "id": "c40d52d8-a602-4b90-8e3b-bbe74ffb6683",
   "metadata": {},
   "outputs": [
    {
     "name": "stdout",
     "output_type": "stream",
     "text": [
      "Data inserted successfully!\n"
     ]
    }
   ],
   "source": [
    "import pandas as pd\n",
    "\n",
    "# Load data\n",
    "customers = pd.read_csv(\"customers.csv\")\n",
    "products = pd.read_csv(\"products.csv\")\n",
    "orders = pd.read_csv(\"orders.csv\")\n",
    "order_details = pd.read_csv(\"order_details.csv\")\n",
    "\n",
    "# Insert data into tables\n",
    "conn = psycopg2.connect(\n",
    "    dbname=\"myfirstdb\",\n",
    "    user=\"postgres\",\n",
    "    password=\"524919\",\n",
    "    host=\"localhost\",\n",
    "    port=\"5432\"\n",
    ")\n",
    "cur = conn.cursor()\n",
    "\n",
    "# Function to insert data\n",
    "def insert_data(table, dataframe):\n",
    "    for _, row in dataframe.iterrows():\n",
    "        values = tuple(row)\n",
    "        placeholders = \", \".join([\"%s\"] * len(values))\n",
    "        query = f\"INSERT INTO {table} VALUES ({placeholders})\"\n",
    "        cur.execute(query, values)\n",
    "\n",
    "insert_data(\"Customers\", customers)\n",
    "insert_data(\"Products\", products)\n",
    "insert_data(\"Orders\", orders)\n",
    "insert_data(\"OrderDetails\", order_details)\n",
    "\n",
    "conn.commit()\n",
    "print(\"Data inserted successfully!\")\n",
    "\n",
    "cur.close()\n",
    "conn.close()\n"
   ]
  },
  {
   "cell_type": "code",
   "execution_count": null,
   "id": "e8e4aed9-dcd9-4303-9977-52f4524dba36",
   "metadata": {},
   "outputs": [],
   "source": []
  },
  {
   "cell_type": "code",
   "execution_count": null,
   "id": "fd8e3953-f22d-4dd0-9560-4f3b998c829b",
   "metadata": {},
   "outputs": [],
   "source": []
  }
 ],
 "metadata": {
  "kernelspec": {
   "display_name": "Python 3 (ipykernel)",
   "language": "python",
   "name": "python3"
  },
  "language_info": {
   "codemirror_mode": {
    "name": "ipython",
    "version": 3
   },
   "file_extension": ".py",
   "mimetype": "text/x-python",
   "name": "python",
   "nbconvert_exporter": "python",
   "pygments_lexer": "ipython3",
   "version": "3.13.0"
  }
 },
 "nbformat": 4,
 "nbformat_minor": 5
}
